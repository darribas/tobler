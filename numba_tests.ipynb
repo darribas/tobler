{
 "cells": [
  {
   "cell_type": "markdown",
   "metadata": {},
   "source": [
    "# `numba` tests\n",
    "\n",
    "This notebook documents and serves as a scratchpad for exploring `numba`-based acceleration on areal interpolation.\n",
    "\n",
    "**NOTE** - To be removed/relocated once/if functionality is merged\n",
    "\n",
    "---\n",
    "\n",
    "**IMPORTANT**\n",
    "\n",
    "As of Dec. 17th'20, the multi-core implementation requires the versions in `main` for `pygeos` and `geopandas`. On a working environment with the latest released versions (as the `gds_env:5.0`), this can be achieved by:\n",
    "\n",
    "```shell\n",
    "pip install --no-deps git+https://github.com/pygeos/pygeos.git\n",
    "pip install --no-deps git+https://github.com/geopandas/geopandas.git\n",
    "```\n",
    "\n",
    "---"
   ]
  },
  {
   "cell_type": "code",
   "execution_count": 1,
   "metadata": {},
   "outputs": [],
   "source": [
    "from tobler.area_weighted.area_interpolate import _area_tables_binning, area_tables_binning_numba, area_tables_binning_rtree\n",
    "import geopandas, pandas\n",
    "\n",
    "summary = lambda src, tgt: print(\n",
    "    f\"Transfer {src.shape[0]} polygons into {tgt.shape[0]}\"\n",
    ")"
   ]
  },
  {
   "cell_type": "markdown",
   "metadata": {},
   "source": [
    "## Data setup"
   ]
  },
  {
   "cell_type": "markdown",
   "metadata": {},
   "source": [
    "- Minimal problem"
   ]
  },
  {
   "cell_type": "code",
   "execution_count": 2,
   "metadata": {},
   "outputs": [
    {
     "name": "stderr",
     "output_type": "stream",
     "text": [
      "/Users/martin/Git/geopandas/martinfleis/geopandas/geodataframe.py:522: RuntimeWarning: Sequential read of iterator was interrupted. Resetting iterator. This can negatively impact the performance.\n",
      "  for feature in features_lst:\n"
     ]
    },
    {
     "name": "stdout",
     "output_type": "stream",
     "text": [
      "Transfer 628 polygons into 644\n"
     ]
    }
   ],
   "source": [
    "p = (\"https://geographicdata.science/book/_downloads/\"\\\n",
    "     \"f2341ee89163afe06b42fc5d5ed38060/sandiego_tracts.gpkg\")\n",
    "src = geopandas.read_file(p)\n",
    "\n",
    "p = (\"https://geographicdata.science/book/_downloads/\"\\\n",
    "     \"d740a1069144baa1302b9561c3d31afe/sd_h3_grid.gpkg\")\n",
    "tgt = geopandas.read_file(p).to_crs(src.crs)\n",
    "\n",
    "w, s, e, n = tgt.total_bounds\n",
    "#src = src.cx[w:e, s:n]\n",
    "summary(src, tgt)"
   ]
  },
  {
   "cell_type": "markdown",
   "metadata": {},
   "source": [
    "- Slightly larger problem"
   ]
  },
  {
   "cell_type": "code",
   "execution_count": 26,
   "metadata": {},
   "outputs": [
    {
     "name": "stdout",
     "output_type": "stream",
     "text": [
      "Transfer 41100 polygons into 75600\n"
     ]
    }
   ],
   "source": [
    "# Tracts\n",
    "p = \"https://ndownloader.figshare.com/files/20460645\"\n",
    "src = geopandas.read_file(p)\n",
    "src = pandas.concat([src]*50)\n",
    "\n",
    "# Precincts\n",
    "p = \"https://ndownloader.figshare.com/files/20460549\"\n",
    "tgt = geopandas.read_file(p).to_crs(src.crs)\n",
    "tgt = pandas.concat([tgt]*20)\n",
    "summary(src, tgt)"
   ]
  },
  {
   "cell_type": "markdown",
   "metadata": {},
   "source": [
    "## Correctness"
   ]
  },
  {
   "cell_type": "code",
   "execution_count": 3,
   "metadata": {},
   "outputs": [
    {
     "name": "stdout",
     "output_type": "stream",
     "text": [
      "Setup: 0.19142699241638184 secs\n",
      "Buckets+: 2.29705810546875 secs\n",
      "Intersections: 0.37102293968200684 secs\n",
      "Conversion: 0.0033349990844726562 secs\n",
      "Setup: 0.002887725830078125 secs\n",
      "Buckets: 0.21747422218322754 secs\n",
      "Intersections: 1.8091838359832764 secs\n"
     ]
    },
    {
     "data": {
      "text/plain": [
       "0"
      ]
     },
     "execution_count": 3,
     "metadata": {},
     "output_type": "execute_result"
    }
   ],
   "source": [
    "cross2 = area_tables_binning_numba(src, tgt, n_jobs=1)\n",
    "cross = _area_tables_binning(src, tgt)\n",
    "(cross != cross2).sum()"
   ]
  },
  {
   "cell_type": "code",
   "execution_count": 5,
   "metadata": {},
   "outputs": [
    {
     "name": "stdout",
     "output_type": "stream",
     "text": [
      "Setup: 0.0034880638122558594 secs\n",
      "Buckets+: 0.1533811092376709 secs\n",
      "Intersections: 0.40909600257873535 secs\n",
      "Conversion: 0.002908945083618164 secs\n",
      "Setup: 0.000990152359008789 secs\n",
      "Buckets+: 0.04711103439331055 secs\n",
      "Intersections: 0.2650790214538574 secs\n",
      "Conversion: 0.0009160041809082031 secs\n"
     ]
    },
    {
     "data": {
      "text/plain": [
       "0"
      ]
     },
     "execution_count": 5,
     "metadata": {},
     "output_type": "execute_result"
    }
   ],
   "source": [
    "nb = area_tables_binning_numba(src, tgt, n_jobs=1)\n",
    "rtree = area_tables_binning_rtree(src, tgt, n_jobs=1)\n",
    "(nb != rtree).sum()"
   ]
  },
  {
   "cell_type": "code",
   "execution_count": 4,
   "metadata": {},
   "outputs": [
    {
     "name": "stdout",
     "output_type": "stream",
     "text": [
      "Setup: 0.0014069080352783203 secs\n",
      "Buckets+: 0.05430197715759277 secs\n",
      "Intersections: 0.26604175567626953 secs\n",
      "Conversion: 0.0008320808410644531 secs\n"
     ]
    },
    {
     "data": {
      "text/plain": [
       "<628x644 sparse matrix of type '<class 'numpy.float32'>'\n",
       "\twith 1913 stored elements in Dictionary Of Keys format>"
      ]
     },
     "execution_count": 4,
     "metadata": {},
     "output_type": "execute_result"
    }
   ],
   "source": []
  },
  {
   "cell_type": "markdown",
   "metadata": {},
   "source": [
    "## Performance"
   ]
  },
  {
   "cell_type": "markdown",
   "metadata": {},
   "source": [
    "Results with all observations in first dataset:"
   ]
  },
  {
   "cell_type": "code",
   "execution_count": 7,
   "metadata": {},
   "outputs": [
    {
     "name": "stdout",
     "output_type": "stream",
     "text": [
      "Setup: 0.0033059120178222656 secs\n",
      "Buckets+: 0.15469813346862793 secs\n",
      "Intersections: 3.685073137283325 secs\n",
      "Conversion: 0.0029549598693847656 secs\n",
      "Setup: 0.0029697418212890625 secs\n",
      "Buckets+: 0.14260005950927734 secs\n",
      "Intersections: 0.2119731903076172 secs\n",
      "Conversion: 0.002791881561279297 secs\n",
      "Setup: 0.0023958683013916016 secs\n",
      "Buckets+: 0.1449720859527588 secs\n",
      "Intersections: 0.21526503562927246 secs\n",
      "Conversion: 0.002538919448852539 secs\n",
      "Setup: 0.002048969268798828 secs\n",
      "Buckets+: 0.13948297500610352 secs\n",
      "Intersections: 0.217210054397583 secs\n",
      "Conversion: 0.0027740001678466797 secs\n",
      "Setup: 0.002178192138671875 secs\n",
      "Buckets+: 0.13260293006896973 secs\n",
      "Intersections: 0.20960402488708496 secs\n",
      "Conversion: 0.002830982208251953 secs\n",
      "Setup: 0.001955747604370117 secs\n",
      "Buckets+: 0.1431879997253418 secs\n",
      "Intersections: 0.2004399299621582 secs\n",
      "Conversion: 0.0026292800903320312 secs\n",
      "Setup: 0.002235889434814453 secs\n",
      "Buckets+: 0.15158915519714355 secs\n",
      "Intersections: 0.23699569702148438 secs\n",
      "Conversion: 0.0031461715698242188 secs\n",
      "Setup: 0.0031239986419677734 secs\n",
      "Buckets+: 0.14820194244384766 secs\n",
      "Intersections: 0.21024203300476074 secs\n",
      "Conversion: 0.002752065658569336 secs\n",
      "364 ms ± 14.4 ms per loop (mean ± std. dev. of 7 runs, 1 loop each)\n"
     ]
    }
   ],
   "source": [
    "%timeit cross2 = area_tables_binning_numba(src, tgt)"
   ]
  },
  {
   "cell_type": "code",
   "execution_count": 6,
   "metadata": {},
   "outputs": [
    {
     "name": "stdout",
     "output_type": "stream",
     "text": [
      "Setup: 0.003650188446044922 secs\n",
      "Buckets+: 0.15782976150512695 secs\n",
      "Intersections: 0.43152618408203125 secs\n",
      "Conversion: 0.002707958221435547 secs\n",
      "Setup: 0.0025510787963867188 secs\n",
      "Buckets+: 0.1576528549194336 secs\n",
      "Intersections: 0.48833417892456055 secs\n",
      "Conversion: 0.002580881118774414 secs\n",
      "Setup: 0.0035059452056884766 secs\n",
      "Buckets+: 0.15597224235534668 secs\n",
      "Intersections: 0.4255349636077881 secs\n",
      "Conversion: 0.0026149749755859375 secs\n",
      "Setup: 0.001977682113647461 secs\n",
      "Buckets+: 0.13219213485717773 secs\n",
      "Intersections: 0.41508913040161133 secs\n",
      "Conversion: 0.002586841583251953 secs\n",
      "Setup: 0.0022242069244384766 secs\n",
      "Buckets+: 0.14191484451293945 secs\n",
      "Intersections: 0.3956260681152344 secs\n",
      "Conversion: 0.0022780895233154297 secs\n",
      "Setup: 0.003113985061645508 secs\n",
      "Buckets+: 0.13562297821044922 secs\n",
      "Intersections: 0.40630102157592773 secs\n",
      "Conversion: 0.002393960952758789 secs\n",
      "Setup: 0.001847982406616211 secs\n",
      "Buckets+: 0.1367340087890625 secs\n",
      "Intersections: 0.39743590354919434 secs\n",
      "Conversion: 0.0025899410247802734 secs\n",
      "Setup: 0.0020699501037597656 secs\n",
      "Buckets+: 0.13482022285461426 secs\n",
      "Intersections: 0.38495302200317383 secs\n",
      "Conversion: 0.002444744110107422 secs\n",
      "566 ms ± 40.1 ms per loop (mean ± std. dev. of 7 runs, 1 loop each)\n"
     ]
    }
   ],
   "source": [
    "%timeit cross2 = area_tables_binning_numba(src, tgt, n_jobs=1)"
   ]
  },
  {
   "cell_type": "code",
   "execution_count": 10,
   "metadata": {},
   "outputs": [
    {
     "name": "stdout",
     "output_type": "stream",
     "text": [
      "Setup: 0.0019299983978271484 secs\n",
      "Buckets+: 0.07179808616638184 secs\n",
      "Intersections: 0.2904839515686035 secs\n",
      "Conversion: 0.0007832050323486328 secs\n",
      "Setup: 0.0008697509765625 secs\n",
      "Buckets+: 0.05193805694580078 secs\n",
      "Intersections: 0.28725409507751465 secs\n",
      "Conversion: 0.0007829666137695312 secs\n",
      "Setup: 0.0010428428649902344 secs\n",
      "Buckets+: 0.05407118797302246 secs\n",
      "Intersections: 0.29442715644836426 secs\n",
      "Conversion: 0.0007879734039306641 secs\n",
      "Setup: 0.0008792877197265625 secs\n",
      "Buckets+: 0.055357933044433594 secs\n",
      "Intersections: 0.33969998359680176 secs\n",
      "Conversion: 0.0010650157928466797 secs\n",
      "Setup: 0.002268075942993164 secs\n",
      "Buckets+: 0.06393909454345703 secs\n",
      "Intersections: 0.3237020969390869 secs\n",
      "Conversion: 0.0007758140563964844 secs\n",
      "Setup: 0.0008871555328369141 secs\n",
      "Buckets+: 0.05243802070617676 secs\n",
      "Intersections: 0.3357710838317871 secs\n",
      "Conversion: 0.0010869503021240234 secs\n",
      "Setup: 0.0012958049774169922 secs\n",
      "Buckets+: 0.06059598922729492 secs\n",
      "Intersections: 0.33737993240356445 secs\n",
      "Conversion: 0.0007722377777099609 secs\n",
      "Setup: 0.0016331672668457031 secs\n",
      "Buckets+: 0.0596311092376709 secs\n",
      "Intersections: 0.3474998474121094 secs\n",
      "Conversion: 0.0007779598236083984 secs\n",
      "383 ms ± 24.3 ms per loop (mean ± std. dev. of 7 runs, 1 loop each)\n"
     ]
    }
   ],
   "source": [
    "%timeit cross = area_tables_binning_rtree(src, tgt, n_jobs=1)"
   ]
  },
  {
   "cell_type": "code",
   "execution_count": 8,
   "metadata": {},
   "outputs": [
    {
     "name": "stdout",
     "output_type": "stream",
     "text": [
      "Setup: 0.0047380924224853516 secs\n",
      "Buckets: 0.27542591094970703 secs\n",
      "Intersections: 1.9011662006378174 secs\n",
      "Setup: 0.0019876956939697266 secs\n",
      "Buckets: 0.2174520492553711 secs\n",
      "Intersections: 1.9076390266418457 secs\n",
      "Setup: 0.002991199493408203 secs\n",
      "Buckets: 0.22337889671325684 secs\n",
      "Intersections: 2.037278890609741 secs\n",
      "Setup: 0.0020818710327148438 secs\n",
      "Buckets: 0.3154489994049072 secs\n",
      "Intersections: 2.575305938720703 secs\n",
      "Setup: 0.0018458366394042969 secs\n",
      "Buckets: 0.26967811584472656 secs\n",
      "Intersections: 2.398831844329834 secs\n",
      "Setup: 0.0020449161529541016 secs\n",
      "Buckets: 0.27692317962646484 secs\n",
      "Intersections: 2.3819448947906494 secs\n",
      "Setup: 0.0022649765014648438 secs\n",
      "Buckets: 0.2858550548553467 secs\n",
      "Intersections: 2.3310320377349854 secs\n",
      "Setup: 0.0020520687103271484 secs\n",
      "Buckets: 0.2722609043121338 secs\n",
      "Intersections: 2.5641541481018066 secs\n",
      "2.58 s ± 263 ms per loop (mean ± std. dev. of 7 runs, 1 loop each)\n"
     ]
    }
   ],
   "source": [
    "%timeit cross = _area_tables_binning(src, tgt)"
   ]
  },
  {
   "cell_type": "markdown",
   "metadata": {},
   "source": [
    "---"
   ]
  },
  {
   "cell_type": "markdown",
   "metadata": {},
   "source": [
    "Results with second dataset:"
   ]
  },
  {
   "cell_type": "code",
   "execution_count": null,
   "metadata": {},
   "outputs": [],
   "source": [
    "%time cross2 = area_tables_binning_numba(src, tgt)"
   ]
  },
  {
   "cell_type": "code",
   "execution_count": null,
   "metadata": {},
   "outputs": [],
   "source": [
    "%time cross2 = area_tables_binning_numba(src, tgt, n_jobs=1)"
   ]
  },
  {
   "cell_type": "code",
   "execution_count": null,
   "metadata": {},
   "outputs": [],
   "source": [
    "%time cross = _area_tables_binning(src, tgt)"
   ]
  },
  {
   "cell_type": "markdown",
   "metadata": {},
   "source": [
    "---\n",
    "\n",
    "Results with second dataset, flipped:"
   ]
  },
  {
   "cell_type": "code",
   "execution_count": 13,
   "metadata": {},
   "outputs": [
    {
     "name": "stdout",
     "output_type": "stream",
     "text": [
      "Setup: 0.0039517879486083984 secs\n",
      "Buckets+: 2.526702880859375 secs\n",
      "Intersections: 1.6080853939056396 secs\n",
      "Conversion: 0.012014150619506836 secs\n",
      "CPU times: user 3.38 s, sys: 86.9 ms, total: 3.47 s\n",
      "Wall time: 4.15 s\n"
     ]
    }
   ],
   "source": [
    "%time cross2 = area_tables_binning_numba(tgt, src)"
   ]
  },
  {
   "cell_type": "code",
   "execution_count": 14,
   "metadata": {},
   "outputs": [
    {
     "name": "stdout",
     "output_type": "stream",
     "text": [
      "Setup: 0.004775524139404297 secs\n",
      "Buckets+: 2.515500068664551 secs\n",
      "Intersections: 4.918679475784302 secs\n",
      "Conversion: 0.01279139518737793 secs\n",
      "CPU times: user 7.43 s, sys: 37.2 ms, total: 7.47 s\n",
      "Wall time: 7.46 s\n"
     ]
    }
   ],
   "source": [
    "%time cross2 = area_tables_binning_numba(tgt, src, n_jobs=1)"
   ]
  },
  {
   "cell_type": "code",
   "execution_count": 15,
   "metadata": {},
   "outputs": [
    {
     "name": "stdout",
     "output_type": "stream",
     "text": [
      "Setup: 0.003404378890991211 secs\n",
      "Buckets: 0.7955982685089111 secs\n",
      "Intersections: 8.69243049621582 secs\n",
      "CPU times: user 9.49 s, sys: 0 ns, total: 9.49 s\n",
      "Wall time: 9.49 s\n"
     ]
    }
   ],
   "source": [
    "%time cross = _area_tables_binning(tgt, src)"
   ]
  },
  {
   "cell_type": "markdown",
   "metadata": {},
   "source": [
    "To do:\n",
    "\n",
    "- [X] Paralellise `pygeos` operations (`parall_exec`)\n",
    "- [ ] Type inputs (explicitly like [here](https://github.com/pysal/esda/blob/master/esda/crand.py#L309))\n",
    "- [ ] Document\n",
    "- [ ] Add tests"
   ]
  }
 ],
 "metadata": {
  "kernelspec": {
   "display_name": "Python 3",
   "language": "python",
   "name": "python3"
  },
  "language_info": {
   "codemirror_mode": {
    "name": "ipython",
    "version": 3
   },
   "file_extension": ".py",
   "mimetype": "text/x-python",
   "name": "python",
   "nbconvert_exporter": "python",
   "pygments_lexer": "ipython3",
   "version": "3.7.6"
  }
 },
 "nbformat": 4,
 "nbformat_minor": 4
}
