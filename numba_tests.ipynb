{
 "cells": [
  {
   "cell_type": "markdown",
   "metadata": {},
   "source": [
    "# `numba` tests\n",
    "\n",
    "This notebook documents and serves as a scratchpad for exploring `numba`-based acceleration on areal interpolation.\n",
    "\n",
    "**NOTE** - To be removed/relocated once/if functionality is merged\n",
    "\n",
    "---\n",
    "\n",
    "**IMPORTANT**\n",
    "\n",
    "As of Dec. 17th'20, the multi-core implementation requires the versions in `main` for `pygeos` and `geopandas`. On a working environment with the latest released versions (as the `gds_env:5.0`), this can be achieved by:\n",
    "\n",
    "```shell\n",
    "pip install --no-deps git+https://github.com/pygeos/pygeos.git\n",
    "pip install --no-deps git+https://github.com/geopandas/geopandas.git\n",
    "```\n",
    "\n",
    "---"
   ]
  },
  {
   "cell_type": "code",
   "execution_count": 1,
   "metadata": {},
   "outputs": [],
   "source": [
    "from tobler.area_weighted.area_interpolate import _area_tables_binning, area_tables_binning_numba\n",
    "from importlib import reload\n",
    "import geopandas\n",
    "\n",
    "summary = lambda src, tgt: print(\n",
    "    f\"Transfer {src.shape[0]} polygons into {tgt.shape[0]}\"\n",
    ")"
   ]
  },
  {
   "cell_type": "markdown",
   "metadata": {},
   "source": [
    "## Data setup"
   ]
  },
  {
   "cell_type": "markdown",
   "metadata": {},
   "source": [
    "- Minimal problem"
   ]
  },
  {
   "cell_type": "code",
   "execution_count": 19,
   "metadata": {},
   "outputs": [
    {
     "name": "stdout",
     "output_type": "stream",
     "text": [
      "Transfer 628 polygons into 644\n"
     ]
    }
   ],
   "source": [
    "p = (\"https://geographicdata.science/book/_downloads/\"\\\n",
    "     \"f2341ee89163afe06b42fc5d5ed38060/sandiego_tracts.gpkg\")\n",
    "src = geopandas.read_file(p)\n",
    "\n",
    "p = (\"https://geographicdata.science/book/_downloads/\"\\\n",
    "     \"d740a1069144baa1302b9561c3d31afe/sd_h3_grid.gpkg\")\n",
    "tgt = geopandas.read_file(p).to_crs(src.crs)\n",
    "\n",
    "w, s, e, n = tgt.total_bounds\n",
    "#src = src.cx[w:e, s:n]\n",
    "summary(src, tgt)"
   ]
  },
  {
   "cell_type": "markdown",
   "metadata": {},
   "source": [
    "- Slightly larger problem"
   ]
  },
  {
   "cell_type": "code",
   "execution_count": 28,
   "metadata": {},
   "outputs": [
    {
     "name": "stdout",
     "output_type": "stream",
     "text": [
      "Transfer 822 polygons into 3780\n"
     ]
    }
   ],
   "source": [
    "# Tracts\n",
    "p = \"https://ndownloader.figshare.com/files/20460645\"\n",
    "src = geopandas.read_file(p)\n",
    "\n",
    "# Precincts\n",
    "p = \"https://ndownloader.figshare.com/files/20460549\"\n",
    "tgt = geopandas.read_file(p).to_crs(src.crs)\n",
    "summary(src, tgt)"
   ]
  },
  {
   "cell_type": "markdown",
   "metadata": {},
   "source": [
    "## Correctness"
   ]
  },
  {
   "cell_type": "code",
   "execution_count": 27,
   "metadata": {},
   "outputs": [
    {
     "data": {
      "text/plain": [
       "0"
      ]
     },
     "execution_count": 27,
     "metadata": {},
     "output_type": "execute_result"
    }
   ],
   "source": [
    "cross2 = area_tables_binning_numba(src, tgt)\n",
    "cross = _area_tables_binning(src, tgt)\n",
    "(cross != cross2).sum()"
   ]
  },
  {
   "cell_type": "markdown",
   "metadata": {},
   "source": [
    "## Performance"
   ]
  },
  {
   "cell_type": "markdown",
   "metadata": {},
   "source": [
    "Results with all observations in first dataset:"
   ]
  },
  {
   "cell_type": "code",
   "execution_count": 20,
   "metadata": {},
   "outputs": [
    {
     "name": "stdout",
     "output_type": "stream",
     "text": [
      "CPU times: user 345 ms, sys: 21.9 ms, total: 367 ms\n",
      "Wall time: 622 ms\n"
     ]
    }
   ],
   "source": [
    "%time cross2 = area_tables_binning_numba(src, tgt)"
   ]
  },
  {
   "cell_type": "code",
   "execution_count": 21,
   "metadata": {},
   "outputs": [
    {
     "name": "stdout",
     "output_type": "stream",
     "text": [
      "CPU times: user 965 ms, sys: 0 ns, total: 965 ms\n",
      "Wall time: 962 ms\n"
     ]
    }
   ],
   "source": [
    "%time cross2 = area_tables_binning_numba(src, tgt, n_jobs=1)"
   ]
  },
  {
   "cell_type": "code",
   "execution_count": 22,
   "metadata": {},
   "outputs": [
    {
     "name": "stdout",
     "output_type": "stream",
     "text": [
      "CPU times: user 4.29 s, sys: 0 ns, total: 4.29 s\n",
      "Wall time: 4.29 s\n"
     ]
    }
   ],
   "source": [
    "%time cross = _area_tables_binning(src, tgt)"
   ]
  },
  {
   "cell_type": "markdown",
   "metadata": {},
   "source": [
    "---"
   ]
  },
  {
   "cell_type": "markdown",
   "metadata": {},
   "source": [
    "Results with second dataset:"
   ]
  },
  {
   "cell_type": "code",
   "execution_count": 24,
   "metadata": {},
   "outputs": [
    {
     "name": "stdout",
     "output_type": "stream",
     "text": [
      "CPU times: user 9.31 s, sys: 502 ms, total: 9.81 s\n",
      "Wall time: 16.7 s\n"
     ]
    }
   ],
   "source": [
    "%time cross2 = area_tables_binning_numba(src, tgt)"
   ]
  },
  {
   "cell_type": "code",
   "execution_count": 25,
   "metadata": {},
   "outputs": [
    {
     "name": "stdout",
     "output_type": "stream",
     "text": [
      "CPU times: user 12.5 s, sys: 66.9 ms, total: 12.6 s\n",
      "Wall time: 12.6 s\n"
     ]
    }
   ],
   "source": [
    "%time cross2 = area_tables_binning_numba(src, tgt, n_jobs=1)"
   ]
  },
  {
   "cell_type": "code",
   "execution_count": 26,
   "metadata": {},
   "outputs": [
    {
     "name": "stdout",
     "output_type": "stream",
     "text": [
      "CPU times: user 17.9 s, sys: 0 ns, total: 17.9 s\n",
      "Wall time: 17.9 s\n"
     ]
    }
   ],
   "source": [
    "%time cross = _area_tables_binning(src, tgt)"
   ]
  },
  {
   "cell_type": "markdown",
   "metadata": {},
   "source": [
    "---\n",
    "\n",
    "Results with second dataset, flipped:"
   ]
  },
  {
   "cell_type": "code",
   "execution_count": 29,
   "metadata": {},
   "outputs": [
    {
     "name": "stdout",
     "output_type": "stream",
     "text": [
      "CPU times: user 15.2 s, sys: 792 ms, total: 16 s\n",
      "Wall time: 21.9 s\n"
     ]
    }
   ],
   "source": [
    "%time cross2 = area_tables_binning_numba(tgt, src)"
   ]
  },
  {
   "cell_type": "code",
   "execution_count": 30,
   "metadata": {},
   "outputs": [
    {
     "name": "stdout",
     "output_type": "stream",
     "text": [
      "CPU times: user 15.9 s, sys: 291 ms, total: 16.2 s\n",
      "Wall time: 16.1 s\n"
     ]
    }
   ],
   "source": [
    "%time cross2 = area_tables_binning_numba(tgt, src, n_jobs=1)"
   ]
  },
  {
   "cell_type": "code",
   "execution_count": 31,
   "metadata": {},
   "outputs": [
    {
     "name": "stdout",
     "output_type": "stream",
     "text": [
      "CPU times: user 17 s, sys: 19.1 ms, total: 17 s\n",
      "Wall time: 17 s\n"
     ]
    }
   ],
   "source": [
    "%time cross = _area_tables_binning(tgt, src)"
   ]
  },
  {
   "cell_type": "markdown",
   "metadata": {},
   "source": [
    "To do:\n",
    "\n",
    "- [X] Paralellise `pygeos` operations (`parall_exec`)\n",
    "- [ ] Type inputs (explicitly like [here](https://github.com/pysal/esda/blob/master/esda/crand.py#L309))\n",
    "- [ ] Document\n",
    "- [ ] Add tests"
   ]
  }
 ],
 "metadata": {
  "kernelspec": {
   "display_name": "Python 3",
   "language": "python",
   "name": "python3"
  },
  "language_info": {
   "codemirror_mode": {
    "name": "ipython",
    "version": 3
   },
   "file_extension": ".py",
   "mimetype": "text/x-python",
   "name": "python",
   "nbconvert_exporter": "python",
   "pygments_lexer": "ipython3",
   "version": "3.7.8"
  }
 },
 "nbformat": 4,
 "nbformat_minor": 4
}
