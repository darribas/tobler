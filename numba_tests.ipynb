{
 "cells": [
  {
   "cell_type": "markdown",
   "metadata": {},
   "source": [
    "# `numba` tests\n",
    "\n",
    "This notebook documents and serves as a scratchpad for exploring `numba`-based acceleration on areal interpolation.\n",
    "\n",
    "**NOTE** - To be removed/relocated once/if functionality is merged\n",
    "\n",
    "---\n",
    "\n",
    "**IMPORTANT**\n",
    "\n",
    "As of Dec. 17th'20, the multi-core implementation requires the versions in `main` for `pygeos` and `geopandas`. On a working environment with the latest released versions (as the `gds_env:5.0`), this can be achieved by:\n",
    "\n",
    "```shell\n",
    "pip install --no-deps git+https://github.com/pygeos/pygeos.git\n",
    "pip install --no-deps git+https://github.com/geopandas/geopandas.git\n",
    "```\n",
    "\n",
    "---"
   ]
  },
  {
   "cell_type": "code",
   "execution_count": 19,
   "metadata": {},
   "outputs": [],
   "source": [
    "from tobler.area_weighted.area_interpolate import _area_tables_binning, area_tables_binning_numba\n",
    "import geopandas, pandas\n",
    "\n",
    "summary = lambda src, tgt: print(\n",
    "    f\"Transfer {src.shape[0]} polygons into {tgt.shape[0]}\"\n",
    ")"
   ]
  },
  {
   "cell_type": "markdown",
   "metadata": {},
   "source": [
    "## Data setup"
   ]
  },
  {
   "cell_type": "markdown",
   "metadata": {},
   "source": [
    "- Minimal problem"
   ]
  },
  {
   "cell_type": "code",
   "execution_count": 2,
   "metadata": {},
   "outputs": [
    {
     "name": "stdout",
     "output_type": "stream",
     "text": [
      "Transfer 628 polygons into 644\n"
     ]
    }
   ],
   "source": [
    "p = (\"https://geographicdata.science/book/_downloads/\"\\\n",
    "     \"f2341ee89163afe06b42fc5d5ed38060/sandiego_tracts.gpkg\")\n",
    "src = geopandas.read_file(p)\n",
    "\n",
    "p = (\"https://geographicdata.science/book/_downloads/\"\\\n",
    "     \"d740a1069144baa1302b9561c3d31afe/sd_h3_grid.gpkg\")\n",
    "tgt = geopandas.read_file(p).to_crs(src.crs)\n",
    "\n",
    "w, s, e, n = tgt.total_bounds\n",
    "#src = src.cx[w:e, s:n]\n",
    "summary(src, tgt)"
   ]
  },
  {
   "cell_type": "markdown",
   "metadata": {},
   "source": [
    "- Slightly larger problem"
   ]
  },
  {
   "cell_type": "code",
   "execution_count": 26,
   "metadata": {},
   "outputs": [
    {
     "name": "stdout",
     "output_type": "stream",
     "text": [
      "Transfer 41100 polygons into 75600\n"
     ]
    }
   ],
   "source": [
    "# Tracts\n",
    "p = \"https://ndownloader.figshare.com/files/20460645\"\n",
    "src = geopandas.read_file(p)\n",
    "src = pandas.concat([src]*50)\n",
    "\n",
    "# Precincts\n",
    "p = \"https://ndownloader.figshare.com/files/20460549\"\n",
    "tgt = geopandas.read_file(p).to_crs(src.crs)\n",
    "tgt = pandas.concat([tgt]*20)\n",
    "summary(src, tgt)"
   ]
  },
  {
   "cell_type": "markdown",
   "metadata": {},
   "source": [
    "## Correctness"
   ]
  },
  {
   "cell_type": "code",
   "execution_count": 3,
   "metadata": {},
   "outputs": [
    {
     "name": "stdout",
     "output_type": "stream",
     "text": [
      "Setup: 0.18500614166259766 secs\n",
      "Buckets+: 2.0063958168029785 secs\n",
      "Intersections: 0.36847734451293945 secs\n",
      "Conversion: 0.0019366741180419922 secs\n",
      "Setup: 0.0018305778503417969 secs\n",
      "Buckets: 0.22100353240966797 secs\n",
      "Intersections: 2.041260242462158 secs\n"
     ]
    },
    {
     "data": {
      "text/plain": [
       "0"
      ]
     },
     "execution_count": 3,
     "metadata": {},
     "output_type": "execute_result"
    }
   ],
   "source": [
    "cross2 = area_tables_binning_numba(src, tgt, n_jobs=1)\n",
    "cross = _area_tables_binning(src, tgt)\n",
    "(cross != cross2).sum()"
   ]
  },
  {
   "cell_type": "markdown",
   "metadata": {},
   "source": [
    "## Performance"
   ]
  },
  {
   "cell_type": "markdown",
   "metadata": {},
   "source": [
    "Results with all observations in first dataset:"
   ]
  },
  {
   "cell_type": "code",
   "execution_count": 5,
   "metadata": {},
   "outputs": [
    {
     "name": "stdout",
     "output_type": "stream",
     "text": [
      "292 ms ± 8.83 ms per loop (mean ± std. dev. of 7 runs, 1 loop each)\n"
     ]
    }
   ],
   "source": [
    "%timeit cross2 = area_tables_binning_numba(src, tgt)"
   ]
  },
  {
   "cell_type": "code",
   "execution_count": 7,
   "metadata": {},
   "outputs": [
    {
     "name": "stdout",
     "output_type": "stream",
     "text": [
      "477 ms ± 3.32 ms per loop (mean ± std. dev. of 7 runs, 1 loop each)\n"
     ]
    }
   ],
   "source": [
    "%timeit cross2 = area_tables_binning_numba(src, tgt, n_jobs=1)"
   ]
  },
  {
   "cell_type": "code",
   "execution_count": 8,
   "metadata": {},
   "outputs": [
    {
     "name": "stdout",
     "output_type": "stream",
     "text": [
      "2.27 s ± 7.16 ms per loop (mean ± std. dev. of 7 runs, 1 loop each)\n"
     ]
    }
   ],
   "source": [
    "%timeit cross = _area_tables_binning(src, tgt)"
   ]
  },
  {
   "cell_type": "markdown",
   "metadata": {},
   "source": [
    "---"
   ]
  },
  {
   "cell_type": "markdown",
   "metadata": {},
   "source": [
    "Results with second dataset:"
   ]
  },
  {
   "cell_type": "code",
   "execution_count": null,
   "metadata": {},
   "outputs": [],
   "source": [
    "%time cross2 = area_tables_binning_numba(src, tgt)"
   ]
  },
  {
   "cell_type": "code",
   "execution_count": null,
   "metadata": {},
   "outputs": [],
   "source": [
    "%time cross2 = area_tables_binning_numba(src, tgt, n_jobs=1)"
   ]
  },
  {
   "cell_type": "code",
   "execution_count": null,
   "metadata": {},
   "outputs": [],
   "source": [
    "%time cross = _area_tables_binning(src, tgt)"
   ]
  },
  {
   "cell_type": "markdown",
   "metadata": {},
   "source": [
    "---\n",
    "\n",
    "Results with second dataset, flipped:"
   ]
  },
  {
   "cell_type": "code",
   "execution_count": 13,
   "metadata": {},
   "outputs": [
    {
     "name": "stdout",
     "output_type": "stream",
     "text": [
      "Setup: 0.0039517879486083984 secs\n",
      "Buckets+: 2.526702880859375 secs\n",
      "Intersections: 1.6080853939056396 secs\n",
      "Conversion: 0.012014150619506836 secs\n",
      "CPU times: user 3.38 s, sys: 86.9 ms, total: 3.47 s\n",
      "Wall time: 4.15 s\n"
     ]
    }
   ],
   "source": [
    "%time cross2 = area_tables_binning_numba(tgt, src)"
   ]
  },
  {
   "cell_type": "code",
   "execution_count": 14,
   "metadata": {},
   "outputs": [
    {
     "name": "stdout",
     "output_type": "stream",
     "text": [
      "Setup: 0.004775524139404297 secs\n",
      "Buckets+: 2.515500068664551 secs\n",
      "Intersections: 4.918679475784302 secs\n",
      "Conversion: 0.01279139518737793 secs\n",
      "CPU times: user 7.43 s, sys: 37.2 ms, total: 7.47 s\n",
      "Wall time: 7.46 s\n"
     ]
    }
   ],
   "source": [
    "%time cross2 = area_tables_binning_numba(tgt, src, n_jobs=1)"
   ]
  },
  {
   "cell_type": "code",
   "execution_count": 15,
   "metadata": {},
   "outputs": [
    {
     "name": "stdout",
     "output_type": "stream",
     "text": [
      "Setup: 0.003404378890991211 secs\n",
      "Buckets: 0.7955982685089111 secs\n",
      "Intersections: 8.69243049621582 secs\n",
      "CPU times: user 9.49 s, sys: 0 ns, total: 9.49 s\n",
      "Wall time: 9.49 s\n"
     ]
    }
   ],
   "source": [
    "%time cross = _area_tables_binning(tgt, src)"
   ]
  },
  {
   "cell_type": "markdown",
   "metadata": {},
   "source": [
    "To do:\n",
    "\n",
    "- [X] Paralellise `pygeos` operations (`parall_exec`)\n",
    "- [ ] Type inputs (explicitly like [here](https://github.com/pysal/esda/blob/master/esda/crand.py#L309))\n",
    "- [ ] Document\n",
    "- [ ] Add tests"
   ]
  }
 ],
 "metadata": {
  "kernelspec": {
   "display_name": "Python 3",
   "language": "python",
   "name": "python3"
  },
  "language_info": {
   "codemirror_mode": {
    "name": "ipython",
    "version": 3
   },
   "file_extension": ".py",
   "mimetype": "text/x-python",
   "name": "python",
   "nbconvert_exporter": "python",
   "pygments_lexer": "ipython3",
   "version": "3.7.8"
  }
 },
 "nbformat": 4,
 "nbformat_minor": 4
}
